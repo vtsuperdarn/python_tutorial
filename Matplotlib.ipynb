{
 "metadata": {
  "name": "Matplotlib"
 },
 "nbformat": 3,
 "nbformat_minor": 0,
 "worksheets": [
  {
   "cells": [
    {
     "cell_type": "markdown",
     "metadata": {},
     "source": [
      "![](http://matplotlib.org/_static/logo2.png)  \n",
      "##2. Matplotlib  \n",
      "matplotlib is a python plotting library which produces publication quality figures ([http://matplotlib.org/](http://matplotlib.org/)).   \n",
      "If you need something, search the extensive [matplotlib gallery](http://matplotlib.org/gallery.html), and just replicate the provided code!"
     ]
    },
    {
     "cell_type": "code",
     "collapsed": false,
     "input": [
      "# Import useful stuff\n",
      "import numpy as np\n",
      "import matplotlib as mplt"
     ],
     "language": "python",
     "metadata": {},
     "outputs": []
    },
    {
     "cell_type": "markdown",
     "metadata": {},
     "source": [
      "###2.a. Basic plotting"
     ]
    },
    {
     "cell_type": "code",
     "collapsed": false,
     "input": [
      "# Initialize a figure\n",
      "figure(figsize=(5,5))\n",
      "# Create x, y variables\n",
      "x = np.arange(-5*np.pi,5*np.pi,np.pi/10.)\n",
      "y = np.sin(x)\n",
      "# Plot them\n",
      "p = plot(x,y,'r-')\n",
      "# Some formatting\n",
      "xlabel('X var')\n",
      "ylabel('Y var')\n",
      "grid(True)\n",
      "mplt.rcParams.update({'font.size': 12})"
     ],
     "language": "python",
     "metadata": {},
     "outputs": []
    },
    {
     "cell_type": "markdown",
     "metadata": {},
     "source": [
      "###2.b. 3-D plotting"
     ]
    },
    {
     "cell_type": "code",
     "collapsed": false,
     "input": [
      "# Simple 3d plot\n",
      "# First some parameters\n",
      "Rav = 6370.\n",
      "X, Y, Z = 1286.2121, -4800.2089, 4142.0249\n",
      "# Initialize figure\n",
      "fig = plt.figure(figsize(10,10))\n",
      "ax = fig.add_subplot(111, projection='3d')\n",
      "# Plot x, y, z axis\n",
      "ax.plot3D([0,Rav],[0,0],[0,0],'b')\n",
      "ax.plot3D([0,0],[0,Rav],[0,0],'g')\n",
      "ax.plot3D([0,0],[0,0],[0,Rav],'r')\n",
      "# Plot wireframe Earth\n",
      "u = np.linspace(0, 2 * np.pi, 19)\n",
      "v = np.linspace(0, np.pi, 19)\n",
      "tx = Rav * np.outer(np.cos(u), np.sin(v))\n",
      "ty = Rav * np.outer(np.sin(u), np.sin(v))\n",
      "tz = Rav * np.outer(np.ones(np.size(u)), np.cos(v))\n",
      "ax.plot_wireframe(tx,ty,tz,color='grey')\n",
      "# Plot darker lines for equator, meridian 0 and 90\n",
      "ax.plot3D(Rav*np.cos(u),Rav*np.sin(u),'k')\n",
      "ax.plot3D(np.zeros(np.size(u)),Rav*np.cos(u),Rav*np.sin(u),'k')\n",
      "ax.plot3D(Rav*np.cos(u),np.zeros(np.size(u)),Rav*np.sin(u),'k')\n",
      "# Add a point somewhere\n",
      "ax.scatter3D(X,Y,Z,marker='o',c='k',s=40)\n",
      "# Set viewing angle\n",
      "ax.view_init(30,-30)"
     ],
     "language": "python",
     "metadata": {},
     "outputs": []
    },
    {
     "cell_type": "markdown",
     "metadata": {},
     "source": [
      "In a terminal, run:  \n",
      "\n",
      "    $ python contourf3d_demo2.py"
     ]
    },
    {
     "cell_type": "markdown",
     "metadata": {},
     "source": [
      "###2.c. Animations\n",
      "In a terminal, run:  \n",
      "\n",
      "    $ python anim_subplots.py\n",
      "    $ python simple_3danim.py"
     ]
    },
    {
     "cell_type": "markdown",
     "metadata": {},
     "source": [
      "###2.d. UI\n",
      "In a terminal, run:  \n",
      "\n",
      "    $ run data_browser.py"
     ]
    },
    {
     "cell_type": "markdown",
     "metadata": {},
     "source": [
      "###2.e. Maps"
     ]
    },
    {
     "cell_type": "code",
     "collapsed": false,
     "input": [
      "# Import the basemap and datetime toolkit\n",
      "from mpl_toolkits.basemap import Basemap\n",
      "from datetime import datetime"
     ],
     "language": "python",
     "metadata": {},
     "outputs": []
    },
    {
     "cell_type": "code",
     "collapsed": false,
     "input": [
      "# setup map projection and decorations\n",
      "figure(figsize=(15,10))\n",
      "subplot(231)\n",
      "# Set map projection an limits\n",
      "map = Basemap(projection='npstere',boundinglat=30,lon_0=270,resolution='l')\n",
      "# Format map\n",
      "map.drawcoastlines()\n",
      "map.drawmapboundary()\n",
      "# draw parallels and meridians.\n",
      "map.drawparallels(np.arange(30.,81.,20.))\n",
      "map.drawmeridians(np.arange(-180.,181.,20.))\n",
      "# overplot terminator\n",
      "map.nightshade(datetime.utcnow())\n",
      "title(\"Polar Stereographic\")\n",
      "\n",
      "# A different projection\n",
      "subplot2grid((2,3),(0,1), colspan=2)\n",
      "map = Basemap(projection='cyl',llcrnrlat=-90,urcrnrlat=90,\\\n",
      "            llcrnrlon=-180,urcrnrlon=180,resolution='l')\n",
      "map.drawcoastlines()\n",
      "map.drawmapboundary()\n",
      "# draw parallels and meridians.\n",
      "map.drawparallels(np.arange(-8.,81.,20.))\n",
      "map.drawmeridians(np.arange(-180.,181.,20.))\n",
      "# overplot terminator\n",
      "map.nightshade(datetime.utcnow())\n",
      "title(\"Cylindrical equidistant\")\n",
      "\n",
      "# A different projection\n",
      "subplot2grid((2,3),(1,0))\n",
      "map = Basemap(projection='geos',lon_0=-80,resolution='l')\n",
      "map.drawcoastlines()\n",
      "map.drawmapboundary(fill_color='aqua')\n",
      "map.fillcontinents(color='coral',lake_color='aqua')\n",
      "# draw parallels and meridians.\n",
      "map.drawparallels(np.arange(-80.,81.,20.))\n",
      "map.drawmeridians(np.arange(-180.,181.,20.))\n",
      "# overplot terminator\n",
      "map.nightshade(datetime.utcnow())\n",
      "title(\"Geostationary\")\n",
      "\n",
      "# A different projection\n",
      "subplot2grid((2,3),(1,1), colspan=2)\n",
      "map = Basemap(projection='moll',lon_0=0,resolution='l')\n",
      "map.drawlsmask(land_color='coral',ocean_color='aqua',lakes=True)\n",
      "# draw parallels and meridians.\n",
      "map.drawparallels(np.arange(-80.,81.,20.))\n",
      "map.drawmeridians(np.arange(-180.,181.,20.))\n",
      "# overplot terminator\n",
      "map.nightshade(datetime.utcnow())\n",
      "title(\"Mollweide\")"
     ],
     "language": "python",
     "metadata": {},
     "outputs": []
    },
    {
     "cell_type": "code",
     "collapsed": false,
     "input": [
      "# setup Lambert Conformal basemap.\n",
      "# set resolution=None to skip processing of boundary datasets.\n",
      "figure(figsize=(20,10))\n",
      "subplot(121)\n",
      "map = Basemap(width=12000000,height=9000000,projection='lcc',\n",
      "            resolution=None,lat_1=45.,lat_2=55,lat_0=50,lon_0=-107.)\n",
      "map.drawparallels(np.arange(0.,81.,20.),color='white')\n",
      "map.drawmeridians(np.arange(-180.,181.,20.),color='white')\n",
      "map.bluemarble()\n",
      "\n",
      "# Another map background\n",
      "subplot(122)\n",
      "map = Basemap(width=12000000,height=9000000,projection='lcc',\n",
      "            resolution=None,lat_1=45.,lat_2=55,lat_0=50,lon_0=-107.)\n",
      "map.drawparallels(np.arange(0.,81.,20.),labels=[False,True,True,False])\n",
      "map.drawmeridians(np.arange(-180.,181.,20.),labels=[True,False,False,True])\n",
      "map.etopo()"
     ],
     "language": "python",
     "metadata": {},
     "outputs": []
    },
    {
     "cell_type": "markdown",
     "metadata": {},
     "source": [
      "###2.f. Space-science examples"
     ]
    },
    {
     "cell_type": "code",
     "collapsed": false,
     "input": [
      "import idlsave\n",
      "import datetime as dt\n",
      "import matplotlib as mp\n",
      "import h5py as h5"
     ],
     "language": "python",
     "metadata": {},
     "outputs": []
    },
    {
     "cell_type": "code",
     "collapsed": false,
     "input": [
      "data = idlsave.read('/home/sebastien/Documents/code/radar/data/IS_20101118_rad.sav')\n",
      "rad_data = data.data[0]\n",
      "rad_info = data.info[0]"
     ],
     "language": "python",
     "metadata": {},
     "outputs": []
    },
    {
     "cell_type": "code",
     "collapsed": false,
     "input": [
      "def plotData(X, Y, data, scale=[0.,30.,5.], ylabel='Slant range [km]', cbarLabel='Power [dB]', yrange=None):\n",
      "    # Plotting\n",
      "    fig = plt.figure(figsize(12,6))\n",
      "    ax = fig.add_subplot(111)\n",
      "    cax = ax.pcolormesh(X, Y, np.ma.masked_where(data == 10000., data), vmin=scale[0], vmax=scale[1])\n",
      "    # Formatting\n",
      "    xticks = mp.dates.HourLocator(interval=2)\n",
      "    xticksfmt = mp.dates.DateFormatter('%H:%M')\n",
      "    ax.xaxis.set_major_locator(xticks)\n",
      "    ax.xaxis.set_major_formatter(xticksfmt)\n",
      "    cbar = fig.colorbar(cax, ticks=arange(scale[0],scale[1]+scale[2],scale[2]))\n",
      "    cbar.set_label(cbarLabel)\n",
      "    ax.set_xlabel('Time [UT]')\n",
      "    ax.set_ylabel(ylabel)\n",
      "    ax.grid()\n",
      "    if yrange: ylim(yrange)\n",
      "    rcParams.update({'font.size': 12})\n",
      "    return fig, ax"
     ],
     "language": "python",
     "metadata": {},
     "outputs": []
    },
    {
     "cell_type": "code",
     "collapsed": false,
     "input": [
      "# Select data\n",
      "beaminds = ( rad_data.beam == 12 )\n",
      "chaninds = ( rad_data.channel == 0 )\n",
      "datinds = np.logical_and(beaminds, chaninds)\n",
      "data = rad_data.power[:,datinds]\n",
      "# Gridding\n",
      "x = mp.dates.julian2num(rad_data.juls[datinds])\n",
      "y = np.arange(rad_data.lagfr[0]*.15, rad_data.lagfr[0]*.15+rad_info.ngates*rad_data.smsep[0]*.15, rad_data.smsep[0]*.15)\n",
      "X, Y = meshgrid(x, y)\n",
      " # Plotting\n",
      "plotData(X, Y, data)"
     ],
     "language": "python",
     "metadata": {},
     "outputs": []
    },
    {
     "cell_type": "code",
     "collapsed": false,
     "input": [
      "# Read data from hdf5 file\n",
      "f = h5.File('/home/sebastien/Documents/code/milh/mlh101117g.002.hdf5', 'r')\n",
      "edens = f['Data']['Array Layout']['2D Parameters']['popl'][:]\n",
      "ti = f['Data']['Array Layout']['2D Parameters']['ti'][:]\n",
      "tr = f['Data']['Array Layout']['2D Parameters']['tr'][:]\n",
      "te = tr*ti\n",
      "mho_range = f['Data']['Array Layout']['range'][:]\n",
      "mho_time = mp.dates.epoch2num( f['Data']['Array Layout']['timestamps'][:] )\n",
      "mho_elev = f['Data']['Array Layout']['1D Parameters']['el1'][:]\n",
      "mho_azim = f['Data']['Array Layout']['1D Parameters']['az1'][:]\n",
      "mho_alti = np.dot( np.sin(np.radians(mho_elev)).reshape(mho_elev.shape[0],1), mho_range.reshape(1,mho_range.shape[0]) ).transpose()\n",
      "f.close()"
     ],
     "language": "python",
     "metadata": {},
     "outputs": []
    },
    {
     "cell_type": "code",
     "collapsed": false,
     "input": [
      "X, Y = meshgrid(mho_time, mho_range)\n",
      "fig = plotData(X, mho_alti, np.ma.masked_where(np.isnan(edens), edens).transpose(), \\\n",
      "    scale=[8.,12.,1.], cbarLabel='Electron density [log m$^{-3}$]', ylabel='Altitude [km]',yrange=[100,500])\n",
      "fig = plotData(X, mho_alti, np.ma.masked_where(np.isnan(te), te).transpose(), \\\n",
      "    scale=[0.,3000.,500.], cbarLabel='Electron temperature [K]', ylabel='Altitude [km]',yrange=[100,500])"
     ],
     "language": "python",
     "metadata": {},
     "outputs": []
    },
    {
     "cell_type": "code",
     "collapsed": false,
     "input": [],
     "language": "python",
     "metadata": {},
     "outputs": []
    }
   ],
   "metadata": {}
  }
 ]
}