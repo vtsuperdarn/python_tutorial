{
 "metadata": {
  "name": "SpacePy Radiation Belt"
 },
 "nbformat": 3,
 "nbformat_minor": 0,
 "worksheets": [
  {
   "cells": [
    {
     "cell_type": "code",
     "collapsed": false,
     "input": [
      "import spacepy.radbelt as sprb\n",
      "rb = sprb.RBmodel()\n",
      "rb.setup_ticks('2002-02-01T00:00:00', '2002-02-10T00:00:00', 0.25)\n",
      "rb.evolve()\n",
      "rb.plot()"
     ],
     "language": "python",
     "metadata": {},
     "outputs": []
    },
    {
     "cell_type": "code",
     "collapsed": false,
     "input": [],
     "language": "python",
     "metadata": {},
     "outputs": []
    }
   ],
   "metadata": {}
  }
 ]
}