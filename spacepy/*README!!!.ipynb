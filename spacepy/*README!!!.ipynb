{
 "metadata": {
  "name": "*README!!!"
 },
 "nbformat": 3,
 "nbformat_minor": 0,
 "worksheets": [
  {
   "cells": [
    {
     "cell_type": "heading",
     "level": 1,
     "metadata": {},
     "source": [
      "VT iPython Demo Notebook Server"
     ]
    },
    {
     "cell_type": "markdown",
     "metadata": {},
     "source": [
      "Welcome to the Virginia Tech iPython Demo Notebook Server!\n",
      "\n",
      "We have already installed a number of useful packages on this server, including Numpy, Scipy, Matplotlib, SpacePy (http://spacepy.lanl.gov/), and VT SuperDARN's own DaViT (http://vtsuperdarn.github.com/davitpy/).\n",
      "\n",
      "Please note that this server is a semi-public server, and anyone who logs into it will be able to see the code that is here.  Also, if more than one person logs into a notebook at the same time, they will be accessing the same iPython session and variable namespace.\n",
      "\n",
      "We have posted some demo notebooks on here for you to run.  You cannot save any changes that you make to these notebooks.\n",
      "\n",
      "We recommend that if you really want to play around, create a notebook or two with your name, and then go try out your code.  Feel free to output files to /home/pythondemo/public_html.  You can then access these files at http://sd-work9.ece.vt.edu/python.\n",
      "\n",
      "Note that this server may be shutdown at anypoint without notice, and notebooks stored on here may be erased or tampered with.  If you need some help setting up your own system, feel free to contact us.\n",
      "\n",
      "If you have any questions, please talk to:\n",
      "\n",
      "Sebastien de Larquier - sdelarquier@vt.edu\n",
      "\n",
      "Nathaniel Frissell - nafrissell@vt.edu\n",
      "\n",
      "AJ Ribeiro - ribeiro@vt.edu"
     ]
    }
   ],
   "metadata": {}
  }
 ]
}