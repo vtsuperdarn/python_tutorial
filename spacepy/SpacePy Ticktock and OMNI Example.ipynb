{
 "metadata": {
  "name": "SpacePy Ticktock and OMNI Example"
 },
 "nbformat": 3,
 "nbformat_minor": 0,
 "worksheets": [
  {
   "cells": [
    {
     "cell_type": "code",
     "collapsed": false,
     "input": [
      "import spacepy\n",
      "import datetime as dt\n",
      "import spacepy.time as spt"
     ],
     "language": "python",
     "metadata": {},
     "outputs": []
    },
    {
     "cell_type": "code",
     "collapsed": false,
     "input": [
      "#spacepy.toolbox.update(omni=True)"
     ],
     "language": "python",
     "metadata": {},
     "outputs": []
    },
    {
     "cell_type": "code",
     "collapsed": false,
     "input": [
      "#OMNI is hourly from November 1963,\n",
      "#Higher time resolution from 1995\n",
      "#SpacePy provides hourly only.\n",
      "import spacepy.omni as om"
     ],
     "language": "python",
     "metadata": {},
     "outputs": []
    },
    {
     "cell_type": "code",
     "collapsed": false,
     "input": [
      "st = dt.datetime(2003,10,20)\n",
      "en = dt.datetime(2003,12,5)"
     ],
     "language": "python",
     "metadata": {},
     "outputs": []
    },
    {
     "cell_type": "code",
     "collapsed": false,
     "input": [
      "delta = dt.timedelta(days=1)\n",
      "ticks = spt.tickrange(st, en, delta, 'UTC')"
     ],
     "language": "python",
     "metadata": {},
     "outputs": []
    },
    {
     "cell_type": "markdown",
     "metadata": {},
     "source": [
      "ticks is now a ticktock class object containing all of the times of interest.  It's really easy to go between different time coordinate systems!!!"
     ]
    },
    {
     "cell_type": "code",
     "collapsed": false,
     "input": [
      "?ticks"
     ],
     "language": "python",
     "metadata": {},
     "outputs": []
    },
    {
     "cell_type": "code",
     "collapsed": false,
     "input": [
      "ticks.UTC[0]"
     ],
     "language": "python",
     "metadata": {},
     "outputs": []
    },
    {
     "cell_type": "code",
     "collapsed": false,
     "input": [
      "data = om.get_omni(ticks)"
     ],
     "language": "python",
     "metadata": {},
     "outputs": []
    },
    {
     "cell_type": "markdown",
     "metadata": {},
     "source": [
      "data is a dictionary containing all the OMNI data, by variable, for the timestamps contained within the Ticktock\n",
      "object ticks. Now it is simple to plot Dst values for instance:"
     ]
    },
    {
     "cell_type": "code",
     "collapsed": false,
     "input": [
      "data"
     ],
     "language": "python",
     "metadata": {},
     "outputs": []
    },
    {
     "cell_type": "code",
     "collapsed": false,
     "input": [
      "from matplotlib import pyplot"
     ],
     "language": "python",
     "metadata": {},
     "outputs": []
    },
    {
     "cell_type": "code",
     "collapsed": false,
     "input": [
      "pyplot.plot(ticks.eDOY, data['Dst'])\n",
      "\n",
      "pyplot.xlabel('DOY 2003')\n",
      "pyplot.ylabel('DST')\n",
      "pyplot.title('OMNI Data')"
     ],
     "language": "python",
     "metadata": {},
     "outputs": []
    },
    {
     "cell_type": "code",
     "collapsed": false,
     "input": [
      "fig = pyplot.figure()\n",
      "ax1 = fig.add_subplot(111) #1x1 array, put me in the first one\n",
      "ax1.plot(ticks.UTC, data['Dst'])\n",
      "fig.autofmt_xdate()\n",
      "\n",
      "pyplot.xlabel('UT')\n",
      "pyplot.ylabel('DST')\n",
      "pyplot.title('OMNI Data')\n",
      "\n",
      "pyplot.show()"
     ],
     "language": "python",
     "metadata": {},
     "outputs": []
    },
    {
     "cell_type": "code",
     "collapsed": false,
     "input": [],
     "language": "python",
     "metadata": {},
     "outputs": []
    }
   ],
   "metadata": {}
  }
 ]
}