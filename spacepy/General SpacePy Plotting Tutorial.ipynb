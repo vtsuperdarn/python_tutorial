{
 "metadata": {
  "name": "General SpacePy Plotting Tutorial"
 },
 "nbformat": 3,
 "nbformat_minor": 0,
 "worksheets": [
  {
   "cells": [
    {
     "cell_type": "markdown",
     "metadata": {},
     "source": [
      "This demo is adapted from the beginning of http://spacepy.lanl.gov/doc/case_reeves_morley_friedel_2011.html.  I recommend this website!  It has a lot of useful tips for learning data analysis/visualization with python!\n",
      "\n",
      "Also, the PDF of the SpacePy manual is available on our server!  http://sd-work9.ece.vt.edu/python/spacepy.pdf\n",
      "\n",
      "Note that this notebook is read only.  You can make temporary changes to play with the code, but you can't save them!!"
     ]
    },
    {
     "cell_type": "heading",
     "level": 2,
     "metadata": {},
     "source": [
      "Common Functions"
     ]
    },
    {
     "cell_type": "code",
     "collapsed": false,
     "input": [
      "import datetime\n",
      "\n",
      "import numpy"
     ],
     "language": "python",
     "metadata": {},
     "outputs": []
    },
    {
     "cell_type": "code",
     "collapsed": false,
     "input": [
      "def load_esp(fname):\n",
      "    esp_fluxes = numpy.loadtxt(fname, skiprows=14, usecols=[1])\n",
      "    convert = lambda x: datetime.datetime.strptime(x, '%Y-%m-%d')\n",
      "    esp_times = numpy.loadtxt(fname, skiprows=14, usecols=[0],\n",
      "                              converters={0: convert}, dtype=numpy.object)\n",
      "    return (esp_times, esp_fluxes)"
     ],
     "language": "python",
     "metadata": {},
     "outputs": []
    },
    {
     "cell_type": "heading",
     "level": 2,
     "metadata": {},
     "source": [
      "Solar Wind data and averaging"
     ]
    },
    {
     "cell_type": "code",
     "collapsed": false,
     "input": [
      "import spacepy.toolbox\n",
      "spacepy.toolbox.update(all=False, omni2=True)"
     ],
     "language": "python",
     "metadata": {},
     "outputs": []
    },
    {
     "cell_type": "code",
     "collapsed": false,
     "input": [
      "import spacepy.omni\n",
      "vsw = spacepy.omni.omnidata['velo']\n",
      "vsw_times = spacepy.omni.omnidata['UTC']"
     ],
     "language": "python",
     "metadata": {},
     "outputs": []
    },
    {
     "cell_type": "code",
     "collapsed": false,
     "input": [
      "fname = \"/home/pythondemo/notebook-server/data/2010ja015735-ds01_FIXED.txt\"\n",
      "esp_times, esp_flux = load_esp(fname)"
     ],
     "language": "python",
     "metadata": {},
     "outputs": []
    },
    {
     "cell_type": "code",
     "collapsed": false,
     "input": [
      "import numpy\n",
      "d = numpy.diff(vsw_times)\n",
      "print(d.min())\n",
      "print(d.max())\n",
      "d = numpy.diff(esp_times)\n",
      "print(d.min())\n",
      "print(d.max())"
     ],
     "language": "python",
     "metadata": {},
     "outputs": []
    },
    {
     "cell_type": "markdown",
     "metadata": {},
     "source": [
      "numpy.diff() returns the difference between every element of an array and the previous element. min() and max() do exactly what they sound like. So this code confirms that every time in the vsw data is on a continuous one hour cadence, and the ESP data is on a continuous one day cadence."
     ]
    },
    {
     "cell_type": "code",
     "collapsed": false,
     "input": [
      "import scipy.stats\n",
      "esp_flux_av = numpy.empty(shape=esp_flux.shape, dtype=esp_flux.dtype)\n",
      "for i in range(len(esp_flux_av)):\n",
      "    esp_flux_av[i] = scipy.stats.nanmean(esp_flux[max(i - 13, 0):i + 14])"
     ],
     "language": "python",
     "metadata": {},
     "outputs": []
    },
    {
     "cell_type": "markdown",
     "metadata": {},
     "source": [
      "The solar wind data covers from 1963, whereas the ESP data starts in 1989. Although for proper averaging we want to keep some solar wind data \u201coff the end\u201d of the ESP data, 35 years is a bit much. So let\u2019s cut out the solar wind data from before 1989:"
     ]
    },
    {
     "cell_type": "code",
     "collapsed": false,
     "input": [
      "import bisect\n",
      "import datetime\n",
      "idx = bisect.bisect_left(vsw_times, datetime.datetime(1989, 1, 1))\n",
      "vsw_times = vsw_times[idx:]\n",
      "vsw = vsw[idx:]"
     ],
     "language": "python",
     "metadata": {},
     "outputs": []
    },
    {
     "cell_type": "code",
     "collapsed": false,
     "input": [
      "vsw_av = numpy.fromiter((scipy.stats.nanmean(vsw[max(0, i - 324):i + 324])\n",
      "    for i in range(len(vsw))),\n",
      "    count=len(vsw), dtype=vsw.dtype)"
     ],
     "language": "python",
     "metadata": {},
     "outputs": []
    },
    {
     "cell_type": "heading",
     "level": 2,
     "metadata": {},
     "source": [
      "Making Figure 1"
     ]
    },
    {
     "cell_type": "heading",
     "level": 4,
     "metadata": {},
     "source": [
      "Simple Figure Example:"
     ]
    },
    {
     "cell_type": "code",
     "collapsed": false,
     "input": [
      "import matplotlib.pyplot as plt #Convention for matplotlib\n",
      "plt.ion() #Interactive mode on"
     ],
     "language": "python",
     "metadata": {},
     "outputs": []
    },
    {
     "cell_type": "code",
     "collapsed": false,
     "input": [
      "plt.semilogy(esp_times, 10 ** esp_flux_av, 'b')\n",
      "\n",
      "plt.xlabel('Year', weight='bold')\n",
      "plt.ylabel('Electron Flux\\n1.8-3.5 MeV', color='blue', weight='bold')\n",
      "plt.ylim(1e-2, 10)\n",
      "\n",
      "plt.draw()"
     ],
     "language": "python",
     "metadata": {},
     "outputs": []
    },
    {
     "cell_type": "heading",
     "level": 4,
     "metadata": {},
     "source": [
      "Professional Figure Example:"
     ]
    },
    {
     "cell_type": "code",
     "collapsed": false,
     "input": [
      "plt.ioff()\n",
      "fig = plt.figure(figsize=[11, 8.5]) #US Letter, Landscape Orientation\n",
      "\n",
      "#add_subplot() creates an Axes object, which can contain an actual plot.\n",
      "#111 here means that the figure will have 1 subplot and the new subplot \n",
      "#should be in position (1, 1)\n",
      "ax = fig.add_subplot(111)\n",
      "\n",
      "#plot() puts the relevant data into the plot; again specifying a blue line.\n",
      "#It returns a list of Line2D objects, which we save for later use.\n",
      "fluxline = ax.plot(esp_times, 10 ** esp_flux_av, 'b')\n",
      "\n",
      "ax.set_yscale('log')\n",
      "\n",
      "ax.set_ylim(1e-2, 10)\n",
      "ax.set_xlabel('Year', weight='bold')\n",
      "ax.set_ylabel('Electron Flux\\n1.8-3.5 MeV', color='b', weight='bold')\n",
      "\n",
      "#twinx() establishes a second Y axis (two values twinned on one X axis) on the same plot.\n",
      "ax2 = ax.twinx()\n",
      "vswline = ax2.plot(vsw_times, vsw_av, 'r')\n",
      "ax2.set_ylim(300, 650)\n",
      "ax2.set_ylabel('Solar Wind Speed', color='r', rotation=270, weight='bold')\n",
      "ax.set_xlim(esp_times[0], esp_times[-1])\n",
      "\n",
      "#Now we create a legend.  Note how we identify each line in the legend from the lists returned by the plotting commands.\n",
      "leg = ax.legend([fluxline[0], vswline[0]], ['Flux', 'Vsw'],loc='upper left', frameon=False)\n",
      "fluxtext, vswtext = leg.get_texts()\n",
      "fluxtext.set_color(fluxline[0].get_color())\n",
      "vswtext.set_color(vswline[0].get_color())\n",
      "\n",
      "plt.show()"
     ],
     "language": "python",
     "metadata": {},
     "outputs": []
    },
    {
     "cell_type": "markdown",
     "metadata": {},
     "source": [
      "Save figure to eps file.  After you create it, you can download it from http://sd-work9.ece.vt.edu/python/fig1a.eps."
     ]
    },
    {
     "cell_type": "code",
     "collapsed": false,
     "input": [
      "fig_fname=\"/home/pythondemo/public_html/fig1a.eps\"\n",
      "fig.savefig(fig_fname)"
     ],
     "language": "python",
     "metadata": {},
     "outputs": []
    }
   ],
   "metadata": {}
  }
 ]
}