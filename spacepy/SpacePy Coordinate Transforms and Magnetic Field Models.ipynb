{
 "metadata": {
  "name": "SpacePy Coordinate Transforms and Magnetic Field Models"
 },
 "nbformat": 3,
 "nbformat_minor": 0,
 "worksheets": [
  {
   "cells": [
    {
     "cell_type": "markdown",
     "metadata": {},
     "source": [
      "This demo is adapted from http://spacepy.lanl.gov/doc/quickstart.html#the-irbempy-module.  I recommend this website!  It has a lot of useful tips for learning data analysis/visualization with python!\n",
      "\n",
      "Also, the PDF of the SpacePy manual is available on our server!  http://sd-work9.ece.vt.edu/python/spacepy.pdf\n",
      "\n",
      "Note that this notebook is read only.  You can make temporary changes to play with the code, but you can't save them!!"
     ]
    },
    {
     "cell_type": "code",
     "collapsed": false,
     "input": [
      "import spacepy.time as spt\n",
      "import spacepy.coordinates as spc"
     ],
     "language": "python",
     "metadata": {},
     "outputs": []
    },
    {
     "cell_type": "code",
     "collapsed": false,
     "input": [
      "t = spt.Ticktock(['2002-02-02T12:00:00', '2002-02-02T12:10:00'], 'ISO')\n",
      "y = spc.Coords([[3,0,0],[2,0,0]], 'GEO', 'car')"
     ],
     "language": "python",
     "metadata": {},
     "outputs": []
    },
    {
     "cell_type": "raw",
     "metadata": {},
     "source": [
      "We have now just defined two points in time and two points in space.  The points in space are in the Geographic Cartesian system, measured in units of Earth Radii (Re).\n",
      "\n",
      "Available coordinate systems are available here:\n",
      "    GZD: (altitude, latitude, longitude) in km, deg, deg\n",
      "    GEO: cartesian, Re\n",
      "    GSM: cartesian, Re\n",
      "    GSE: cartesian, Re\n",
      "    SM: cartesian, Re\n",
      "    GEI: cartesian, Re\n",
      "    MAG: cartesian, Re\n",
      "    SPH: same as GEO but in spherical\n",
      "    RLL: radial distance, latitude, longitude, Re, deg, deg.\n",
      "\n",
      "A nice explanation of different coordinate systems can be found here:\n",
      "    http://www.spenvis.oma.be/help/background/coortran/coortran.html"
     ]
    },
    {
     "cell_type": "code",
     "collapsed": false,
     "input": [
      "# We want to transform from GEO to GSM.  First we need to tell the routine\n",
      "# at what times we want to do this.  Start by adding the ticktock vector we calculated\n",
      "# above to the position vector.\n",
      "y.ticks = t"
     ],
     "language": "python",
     "metadata": {},
     "outputs": []
    },
    {
     "cell_type": "code",
     "collapsed": false,
     "input": [
      "# Now we can run the conversion.\n",
      "y_gsm = y.convert('GSM', 'car')\n",
      "y_gsm"
     ],
     "language": "python",
     "metadata": {},
     "outputs": []
    },
    {
     "cell_type": "heading",
     "level": 1,
     "metadata": {},
     "source": [
      "The irbempy Module"
     ]
    },
    {
     "cell_type": "markdown",
     "metadata": {},
     "source": [
      "ONERA (Office National d\u2019Etudes et Recherches Aerospatiales) initiated a well-known FORTRAN library that provides routines to compute magnetic coordinates for any location in the Earth\u2019s magnetic field, to perform coordinate conversions, to compute magnetic field vectors in geospace for a number of external field models, and to propagate satellite orbits in time. Older versions of this library were called ONERA-DESP-LIB. Recently the library has changed its name to IRBEM-LIB and is maintained by a number of different institutions.\n",
      "\n",
      "A number of key routines in IRBEM-LIB have been made available through the module irbempy. Current functionality includes calls to calculate the local magnetic field vectors at any point in geospace, calculation of the magnetic mirror point for a particle of a given pitch angle (the angle between a particle\u2019s velocity vector and the magnetic field line that it immediately orbits such that a pitch angle of 90 degrees signifies gyration perpendicular to the local field) anywhere in geospace, and calculation of electron drift shells in the inner magnetosphere.:"
     ]
    },
    {
     "cell_type": "code",
     "collapsed": false,
     "input": [
      "import spacepy.irbempy as ib\n",
      "ib.get_Bfield(t,y)"
     ],
     "language": "python",
     "metadata": {},
     "outputs": []
    },
    {
     "cell_type": "markdown",
     "metadata": {},
     "source": [
      "One can also calculate the drift shell L* for a 90 degree pitch angle value by using:"
     ]
    },
    {
     "cell_type": "code",
     "collapsed": false,
     "input": [
      "ib.get_Lstar(t,y, [90])"
     ],
     "language": "python",
     "metadata": {},
     "outputs": []
    },
    {
     "cell_type": "markdown",
     "metadata": {},
     "source": [
      "Other function wrapped with the IRBEM library include:\n",
      "\n",
      "find_Bmirror(), find_magequator(), coord_trans()"
     ]
    }
   ],
   "metadata": {}
  }
 ]
}