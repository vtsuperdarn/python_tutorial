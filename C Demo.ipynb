{
 "metadata": {
  "name": "C Demo"
 },
 "nbformat": 3,
 "nbformat_minor": 0,
 "worksheets": [
  {
   "cells": [
    {
     "cell_type": "code",
     "collapsed": false,
     "input": [
      "#to compile the extension type\n",
      "import os\n",
      "\n",
      "os.system(\"python setup.py build\")\n",
      "os.system(\"sudo python setup.py install\")\n",
      "\n",
      "import cDemo\n",
      "\n",
      "y = cDemo.cFunc(2,3)\n",
      "print y"
     ],
     "language": "python",
     "metadata": {},
     "outputs": [],
     "prompt_number": "*"
    },
    {
     "cell_type": "code",
     "collapsed": false,
     "input": [],
     "language": "python",
     "metadata": {},
     "outputs": []
    }
   ],
   "metadata": {}
  }
 ]
}