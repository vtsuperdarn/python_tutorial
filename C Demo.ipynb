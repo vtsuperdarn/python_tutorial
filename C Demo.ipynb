{
 "metadata": {
  "name": "C Demo"
 },
 "nbformat": 3,
 "nbformat_minor": 0,
 "worksheets": [
  {
   "cells": [
    {
     "cell_type": "raw",
     "metadata": {},
     "source": [
      "#include <Python.h>\n",
      "#include <stdlib.h>\n",
      "#include <stdio.h>\n",
      "#include <sys/stat.h>\n",
      "#include <sys/types.h>\n",
      "\n",
      "static PyObject * \n",
      "c_func(PyObject *self, PyObject *args)\n",
      "{\n",
      "\tint a,b; \n",
      "\t\n",
      "\tif(!PyArg_ParseTuple(args, \"ii\", &a, &b)) \n",
      "\t\treturn NULL;\n",
      "\telse\n",
      "\t{ \n",
      "\t\t\n",
      "\t\treturn PyString_FromFormat(\"this is returned from C!!!\\nYou inputted %d and %d\\na^2 = %d  b^2 = %d\",a,b,a*a,b*b);\n",
      "\t}\n",
      "\n",
      "}\n",
      "\n",
      "static PyMethodDef cdemoMethods[] = \n",
      "{\n",
      " \t{\"cFunc\",  c_func, METH_VARARGS, \"a function docstring\"},\n",
      "  {NULL, NULL, 0, NULL}        /* Sentinel */\n",
      "};\n",
      "\n",
      "PyMODINIT_FUNC\n",
      "initcDemo(void)\n",
      "{\n",
      "\t(void) Py_InitModule(\"cDemo\", cdemoMethods);\n",
      "}"
     ]
    },
    {
     "cell_type": "code",
     "collapsed": false,
     "input": [
      "#to compile the extension type\n",
      "#import os\n",
      "\n",
      "#os.system(\"python setup.py build\")\n",
      "#os.system(\"sudo python setup.py install\")\n",
      "\n",
      "import cDemo\n",
      "\n",
      "y = cDemo.cFunc(2,3)\n",
      "print y"
     ],
     "language": "python",
     "metadata": {},
     "outputs": [],
     "prompt_number": "*"
    }
   ],
   "metadata": {}
  }
 ]
}