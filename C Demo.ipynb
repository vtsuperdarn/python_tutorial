{
 "metadata": {
  "name": "C Demo"
 },
 "nbformat": 3,
 "nbformat_minor": 0,
 "worksheets": [
  {
   "cells": [
    {
     "cell_type": "code",
     "collapsed": false,
     "input": [
      "#to compile the extension type\n",
      "import os\n",
      "\n",
      "os.system(\"python setup.py build\")\n",
      "os.system(\"sudo python setup.py install\")\n",
      "\n",
      "import cDemo\n",
      "\n",
      "y = cDemo.cFunc(2,3)\n",
      "print y"
     ],
     "language": "python",
     "metadata": {},
     "outputs": [
      {
       "output_type": "stream",
       "stream": "stdout",
       "text": [
        "this is printing from C!!!\n",
        "You inputted 2 and 3\n",
        "\n"
       ]
      }
     ],
     "prompt_number": 4
    },
    {
     "cell_type": "code",
     "collapsed": false,
     "input": [],
     "language": "python",
     "metadata": {},
     "outputs": []
    }
   ],
   "metadata": {}
  }
 ]
}