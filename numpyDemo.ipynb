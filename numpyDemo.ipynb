{
 "metadata": {
  "name": "numpyDemo"
 },
 "nbformat": 3,
 "nbformat_minor": 0,
 "worksheets": [
  {
   "cells": [
    {
     "cell_type": "code",
     "collapsed": false,
     "input": [
      "import time, datetime as dt, numpy as np, math, scipy.optimize as sp\n",
      "from matplotlib import pyplot as plt\n",
      "\n",
      "#general math\n",
      "x=59.24\n",
      "print 'x = ',x,' degrees'"
     ],
     "language": "python",
     "metadata": {},
     "outputs": [
      {
       "output_type": "stream",
       "stream": "stdout",
       "text": [
        "x =  59.24  degrees\n"
       ]
      }
     ],
     "prompt_number": 47
    },
    {
     "cell_type": "code",
     "collapsed": false,
     "input": [
      "#degrees to radians\n",
      "y=np.deg2rad(x)\n",
      "print 'y = ',y,' radians'"
     ],
     "language": "python",
     "metadata": {},
     "outputs": [
      {
       "output_type": "stream",
       "stream": "stdout",
       "text": [
        "y =  1.03393304888  radians\n"
       ]
      }
     ],
     "prompt_number": 48
    },
    {
     "cell_type": "code",
     "collapsed": false,
     "input": [
      "#some trig functions\n",
      "print'sin(y) = ',np.sin(y),'  cos(y) = ',np.cos(y),'tan(y) = ',np.tan(y)"
     ],
     "language": "python",
     "metadata": {},
     "outputs": [
      {
       "output_type": "stream",
       "stream": "stdout",
       "text": [
        "sin(y) =  0.859317160934   cos(y) =  0.511443073004 tan(y) =  1.68018144402\n"
       ]
      }
     ],
     "prompt_number": 49
    },
    {
     "cell_type": "code",
     "collapsed": false,
     "input": [
      "#lets define an array\n",
      "npArr = np.array([[1.,2.,3.],[4.5,5.6,6.7],[10,11,12]])"
     ],
     "language": "python",
     "metadata": {},
     "outputs": [],
     "prompt_number": 50
    },
    {
     "cell_type": "code",
     "collapsed": false,
     "input": [
      "#some numpy array ops\n",
      "npArr.shape"
     ],
     "language": "python",
     "metadata": {},
     "outputs": [
      {
       "output_type": "pyout",
       "prompt_number": 51,
       "text": [
        "(3, 3)"
       ]
      }
     ],
     "prompt_number": 51
    },
    {
     "cell_type": "code",
     "collapsed": false,
     "input": [
      "npArr.dtype"
     ],
     "language": "python",
     "metadata": {},
     "outputs": [
      {
       "output_type": "pyout",
       "prompt_number": 52,
       "text": [
        "dtype('float64')"
       ]
      }
     ],
     "prompt_number": 52
    },
    {
     "cell_type": "code",
     "collapsed": false,
     "input": [
      "#print the array\n",
      "print npArr"
     ],
     "language": "python",
     "metadata": {},
     "outputs": [
      {
       "output_type": "stream",
       "stream": "stdout",
       "text": [
        "[[  1.    2.    3. ]\n",
        " [  4.5   5.6   6.7]\n",
        " [ 10.   11.   12. ]]\n"
       ]
      }
     ],
     "prompt_number": 53
    },
    {
     "cell_type": "code",
     "collapsed": false,
     "input": [
      "#vectorized multiplication\n",
      "print npArr*2"
     ],
     "language": "python",
     "metadata": {},
     "outputs": [
      {
       "output_type": "stream",
       "stream": "stdout",
       "text": [
        "[[  2.    4.    6. ]\n",
        " [  9.   11.2  13.4]\n",
        " [ 20.   22.   24. ]]\n"
       ]
      }
     ],
     "prompt_number": 54
    },
    {
     "cell_type": "code",
     "collapsed": false,
     "input": [
      "#vectorized squaring\n",
      "sq = npArr**2\n",
      "print sq"
     ],
     "language": "python",
     "metadata": {},
     "outputs": [
      {
       "output_type": "stream",
       "stream": "stdout",
       "text": [
        "[[   1.      4.      9.  ]\n",
        " [  20.25   31.36   44.89]\n",
        " [ 100.    121.    144.  ]]\n"
       ]
      }
     ],
     "prompt_number": 55
    },
    {
     "cell_type": "code",
     "collapsed": false,
     "input": [
      "#matrix inversion\n",
      "inverse = np.array(np.linalg.inv(sq))\n",
      "print inverse"
     ],
     "language": "python",
     "metadata": {},
     "outputs": [
      {
       "output_type": "stream",
       "stream": "stdout",
       "text": [
        "[[ 1.15114379 -0.64479638  0.12905983]\n",
        " [-1.97712418  0.95022624 -0.17264957]\n",
        " [ 0.8619281  -0.35067873  0.06239316]]\n"
       ]
      }
     ],
     "prompt_number": 56
    },
    {
     "cell_type": "code",
     "collapsed": false,
     "input": [
      "#check that matrix inversion works\n",
      "print np.dot(sq,inverse)"
     ],
     "language": "python",
     "metadata": {},
     "outputs": [
      {
       "output_type": "stream",
       "stream": "stdout",
       "text": [
        "[[  1.00000000e+00  -3.33066907e-16   6.24500451e-17]\n",
        " [ -7.84095011e-16   1.00000000e+00   2.65629532e-16]\n",
        " [ -7.54951657e-15   2.66453526e-15   1.00000000e+00]]\n"
       ]
      }
     ],
     "prompt_number": 57
    },
    {
     "cell_type": "code",
     "collapsed": false,
     "input": [
      "#define a custom type\n",
      "rbtype = np.dtype([('time','datetime64'),('lat','f2'),('lon','f2'),('velocity','f2'),('power','f2')])\n",
      "#create an array and fill it\n",
      "myArr = np.empty(2,dtype=rbtype)\n",
      "for c in myArr:\n",
      "    #python datetime lib\n",
      "    c['time']=dt.datetime.now()\n",
      "    c['lat'] = 37.\n",
      "    c['lon'] = -80.\n",
      "    #random number from normal dist\n",
      "    c['velocity'] = np.random.randn()\n",
      "    #random integer in [0,100)\n",
      "    c['power'] = np.random.randint(0,100)\n",
      "    print 'time = ',c['time'],'  lat = ',c['lat'],'  lon',c['lon'],'  velocity = ',c['velocity'],'  power = ',c['power']\n",
      "    \n",
      "    "
     ],
     "language": "python",
     "metadata": {},
     "outputs": [
      {
       "output_type": "stream",
       "stream": "stdout",
       "text": [
        "time =  2012-09-24 14:50:36.934540   lat =  37.0   lon -80.0   velocity =  -1.1357   power =  89.0\n",
        "time =  2012-09-24 14:50:36.934714   lat =  37.0   lon -80.0   velocity =  -0.60596   power =  79.0\n"
       ]
      }
     ],
     "prompt_number": 58
    },
    {
     "cell_type": "code",
     "collapsed": false,
     "input": [
      "#demo fft\n",
      "dt = .1\n",
      "fN = .5*1/dt\n",
      "t= np.linspace(0,10,101)\n",
      "y=[]\n",
      "#create a signal with 1 and 3 Hz components\n",
      "for s in t:\n",
      "    y.append(np.sin(s*2*np.pi)+np.sin(s*2*3*np.pi)+np.random.randn()/3)\n",
      "y = np.array(y)"
     ],
     "language": "python",
     "metadata": {},
     "outputs": [],
     "prompt_number": 77
    },
    {
     "cell_type": "code",
     "collapsed": false,
     "input": [
      "#plot the signal\n",
      "myFig = plt.figure()\n",
      "plt.plot(t,y)"
     ],
     "language": "python",
     "metadata": {},
     "outputs": [
      {
       "output_type": "pyout",
       "prompt_number": 78,
       "text": [
        "[<matplotlib.lines.Line2D at 0x5759510>]"
       ]
      },
      {
       "output_type": "display_data",
       "png": "[encoded data removed]"
      }
     ],
     "prompt_number": 78
    },
    {
     "cell_type": "code",
     "collapsed": false,
     "input": [
      "#plot the fft\n",
      "z=np.fft.fft(y)\n",
      "n = len(z)/2\n",
      "plt.plot(np.linspace(0,fN,n),abs(z[:n]))"
     ],
     "language": "python",
     "metadata": {},
     "outputs": [
      {
       "output_type": "pyout",
       "prompt_number": 79,
       "text": [
        "[<matplotlib.lines.Line2D at 0x5997290>]"
       ]
      },
      {
       "output_type": "display_data",
       "png": "[encoded data removed]"
      }
     ],
     "prompt_number": 79
    },
    {
     "cell_type": "code",
     "collapsed": false,
     "input": [
      "#lets define a nonlinear function\n",
      "def func(t,a,b):\n",
      "    return t**a+b\n",
      "\n",
      "#now lets make some sample data and add gaussian noise to it\n",
      "y=func(t,2.,3.)\n",
      "for i in range(len(y)):\n",
      "    y[i] += np.random.randn()*10\n",
      "plt.plot(t,y)\n"
     ],
     "language": "python",
     "metadata": {},
     "outputs": [
      {
       "output_type": "pyout",
       "prompt_number": 105,
       "text": [
        "[<matplotlib.lines.Line2D at 0x806d050>]"
       ]
      },
      {
       "output_type": "display_data",
       "png": "[encoded data removed]"
      }
     ],
     "prompt_number": 105
    },
    {
     "cell_type": "code",
     "collapsed": false,
     "input": [
      "#perform a levenberg-marquardt fitting and plot the fitted line\n",
      "popt, pcov = sp.curve_fit(func, t, y,np.array([2,2]))\n",
      "plt.plot(t,y,lw=3)\n",
      "plt.plot(t,func(t,popt[0],popt[1]),'k-',lw=3)"
     ],
     "language": "python",
     "metadata": {},
     "outputs": [
      {
       "output_type": "stream",
       "stream": "stdout",
       "text": [
        "[ 1.9636653   4.17563147]\n"
       ]
      },
      {
       "output_type": "pyout",
       "prompt_number": 106,
       "text": [
        "[<matplotlib.lines.Line2D at 0x7a650d0>]"
       ]
      },
      {
       "output_type": "display_data",
       "png": "[encoded data removed]"
      }
     ],
     "prompt_number": 106
    },
    {
     "cell_type": "code",
     "collapsed": false,
     "input": [],
     "language": "python",
     "metadata": {},
     "outputs": []
    },
    {
     "cell_type": "code",
     "collapsed": false,
     "input": [],
     "language": "python",
     "metadata": {},
     "outputs": []
    },
    {
     "cell_type": "code",
     "collapsed": false,
     "input": [],
     "language": "python",
     "metadata": {},
     "outputs": []
    },
    {
     "cell_type": "code",
     "collapsed": false,
     "input": [],
     "language": "python",
     "metadata": {},
     "outputs": []
    }
   ],
   "metadata": {}
  }
 ]
}