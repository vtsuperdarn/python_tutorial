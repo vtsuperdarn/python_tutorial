{
 "metadata": {
  "name": "Introduction"
 },
 "nbformat": 3,
 "nbformat_minor": 0,
 "worksheets": [
  {
   "cells": [
    {
     "cell_type": "markdown",
     "metadata": {},
     "source": [
      "####Space@VT Grad Seminar\n",
      "#What Python can do for you!\n",
      "\n",
      "![](http://python.org/images/python-logo.gif)\n",
      "\n",
      "##1. Intro\n",
      "\n",
      "#### What is Python?\n",
      "* **interpreted** (like IDL or Matlab): no need for a compiling stage\n",
      "* **object-oriented**: programming paradigm that uses objects\n",
      "* **high-level**: abstraction from the way machine interprets & executes\n",
      "* **dynamic semantics**: can change meaning on-the-fly\n",
      "* **built-in**: core language (not external)\n",
      "* **name comes Monty Python\u2019s Flying Circus** \n",
      "\n",
      "#### Some references:\n",
      "* [Python Boot Camp](https://sites.google.com/site/pythonbootcamp/lectures)\n",
      "* [Python tips, tricks and hacks](http://www.siafoo.net/article/52)\n",
      "* [A video introduction to iPython](http://ipython.org/videos.html)\n",
      "* [Scipy lecture notes](http://scipy-lectures.github.com/)\n",
      "* [SciKit-Learn](http://scikit-learn.org/stable/auto_examples/index.html)\n",
      "* [A video overview of SpacePy](http://archive.org/details/Scipy2010-StevenK.Morley-Spacepy-APython-basedLibraryOfToolsFor)\n",
      "* [A quick video tutorial about h5py](http://www.youtube.com/watch?v=dEtC6bRcjvc)  "
     ]
    },
    {
     "cell_type": "markdown",
     "metadata": {},
     "source": [
      "###1.a. iPython: interactive python"
     ]
    },
    {
     "cell_type": "markdown",
     "metadata": {},
     "source": [
      "* **Do whatever you want: images, videos, html, latex...**"
     ]
    },
    {
     "cell_type": "code",
     "collapsed": false,
     "input": [
      "from IPython.core.display import Image\n",
      "Image(url='http://vt.superdarn.org/tiki-download_file.php?fileId=707&preview')"
     ],
     "language": "python",
     "metadata": {},
     "outputs": []
    },
    {
     "cell_type": "code",
     "collapsed": false,
     "input": [
      "from IPython.lib.display import YouTubeVideo\n",
      "YouTubeVideo('W7brf0OG6P0')"
     ],
     "language": "python",
     "metadata": {},
     "outputs": []
    },
    {
     "cell_type": "code",
     "collapsed": false,
     "input": [
      "from IPython.core.display import Latex\n",
      "Latex(r\"\"\"\\begin{eqnarray}\n",
      "\\nabla \\cdot \\mathbf{D} & = & \\rho \\\\\n",
      "\\nabla \\times \\mathbf{E} & = & -\\frac{\\partial \\mathbf{B}}{\\partial t} \\\\\n",
      "\\nabla \\cdot \\mathbf{B} & = & 0 \\\\\n",
      "\\nabla \\times \\mathbf{H} & = & \\mathbf{J_i} + \\mathbf{J_c} + \\frac{\\partial \\mathbf{D}}{\\partial t}\n",
      "\\end{eqnarray}\"\"\")"
     ],
     "language": "python",
     "metadata": {},
     "outputs": []
    },
    {
     "cell_type": "markdown",
     "metadata": {},
     "source": [
      "* **import local or remote code**"
     ]
    },
    {
     "cell_type": "code",
     "collapsed": false,
     "input": [
      "%loadpy http://matplotlib.org/mpl_examples/pylab_examples/integral_demo.py"
     ],
     "language": "python",
     "metadata": {},
     "outputs": []
    },
    {
     "cell_type": "markdown",
     "metadata": {},
     "source": [
      "* **run parallel code, create notebook servers, easily collaborate and share code...**\n",
      "* **also comes in shell and Qt flavor**"
     ]
    },
    {
     "cell_type": "markdown",
     "metadata": {},
     "source": [
      "###1.b. Python basics\n",
      "\n",
      "**Note: we are using Python 2.7 and recommend you use it too**"
     ]
    },
    {
     "cell_type": "code",
     "collapsed": false,
     "input": [
      "print 'Hello World'"
     ],
     "language": "python",
     "metadata": {},
     "outputs": []
    },
    {
     "cell_type": "code",
     "collapsed": false,
     "input": [
      "# Use it as a simple calculator\n",
      "2 + 2"
     ],
     "language": "python",
     "metadata": {},
     "outputs": []
    },
    {
     "cell_type": "code",
     "collapsed": false,
     "input": [
      "# Test stuff\n",
      "2.1 + 2 == 4.1"
     ],
     "language": "python",
     "metadata": {},
     "outputs": []
    },
    {
     "cell_type": "markdown",
     "metadata": {},
     "source": [
      "#### Indentation matters"
     ]
    },
    {
     "cell_type": "code",
     "collapsed": false,
     "input": [
      "# Try un-indenting/indenting the last line for this cell and see the difference\n",
      "x = 1\n",
      "for i in xrange(10):\n",
      "    print \"Let's go to\" if x > 0 else \"FunkyTown\"\n",
      "    x *= -1"
     ],
     "language": "python",
     "metadata": {},
     "outputs": []
    },
    {
     "cell_type": "markdown",
     "metadata": {},
     "source": [
      "#### Modules\n",
      "* Lots of built-in modules: \n",
      "    * **math** basic mathematical functions & constants\n",
      "    * **datetime** Basic date and time types\n",
      "    * and much more...\n",
      "* Even more external modules:\n",
      "    * **scipy/numpy** the ultimate scientific/numerical toolbox\n",
      "    * **matplotlib** python visualization toolbox\n",
      "    * and so much more..."
     ]
    },
    {
     "cell_type": "code",
     "collapsed": false,
     "input": [
      "# Import a module in your namespace\n",
      "import math\n",
      "math.pi"
     ],
     "language": "python",
     "metadata": {},
     "outputs": []
    },
    {
     "cell_type": "code",
     "collapsed": false,
     "input": [
      "# Import a specific member of a module in your namespace\n",
      "from math import pi\n",
      "pi"
     ],
     "language": "python",
     "metadata": {},
     "outputs": []
    },
    {
     "cell_type": "code",
     "collapsed": false,
     "input": [
      "# Lost? Get help!\n",
      "math.copysign?"
     ],
     "language": "python",
     "metadata": {},
     "outputs": []
    },
    {
     "cell_type": "markdown",
     "metadata": {},
     "source": [
      "#### I/O"
     ]
    },
    {
     "cell_type": "code",
     "collapsed": false,
     "input": [
      "# Open and read a file the simplest way\n",
      "fs = open(\"data/rbspA.dat\",\"r\")\n",
      "data = fs.readlines()\n",
      "fs.close()"
     ],
     "language": "python",
     "metadata": {},
     "outputs": []
    },
    {
     "cell_type": "code",
     "collapsed": false,
     "input": [
      "# Open and read a data file the numpy way\n",
      "import numpy\n",
      "data_np =  genfromtxt('data/rbspA.dat', unpack=True)"
     ],
     "language": "python",
     "metadata": {},
     "outputs": []
    },
    {
     "cell_type": "code",
     "collapsed": false,
     "input": [
      "# Check what's in your namespace\n",
      "whos"
     ],
     "language": "python",
     "metadata": {},
     "outputs": []
    },
    {
     "cell_type": "code",
     "collapsed": false,
     "input": [
      "# Explore what you read from 'readlines()'\n",
      "for i,line in enumerate(data):\n",
      "    print line\n",
      "    if i > 5: break"
     ],
     "language": "python",
     "metadata": {},
     "outputs": []
    },
    {
     "cell_type": "code",
     "collapsed": false,
     "input": [
      "# Explore what you read from 'genfromtxt()'\n",
      "print data_np[0:3,0:10]"
     ],
     "language": "python",
     "metadata": {},
     "outputs": []
    },
    {
     "cell_type": "markdown",
     "metadata": {},
     "source": [
      "#### Object-Oriented programming\n",
      "* We use objects for:\n",
      "    * radar inventory and characteristics\n",
      "    * radar field-of-view projections"
     ]
    },
    {
     "cell_type": "code",
     "collapsed": false,
     "input": [
      "# A simple object just for fun\n",
      "class Bear:\n",
      "    # Initialize the object and whatever elements you want in it\n",
      "    def __init__(self, name, fav_food, friends=[]):\n",
      "        self.name = name\n",
      "        self.fav_food = fav_food\n",
      "        self.friends = friends\n",
      "        print \" made a bear called {}\".format(name)\n",
      "    # Tels the object what to do when you delete it\n",
      "    def __del__(self):\n",
      "        print \"Bang! %s is no longer.\" % self.name\n",
      "    # Define a method on your object\n",
      "    def same_food(self):\n",
      "        for friend in self.friends:\n",
      "            if (friend.fav_food == self.fav_food):\n",
      "                print \"%s and %s both like %s\" % \\\n",
      "                    (self.name, friend.name, self.fav_food)"
     ],
     "language": "python",
     "metadata": {},
     "outputs": []
    },
    {
     "cell_type": "code",
     "collapsed": false,
     "input": [
      "# Create a few instances of the Bear object\n",
      "a = Bear(\"Yogi\", \"Frog legs\")\n",
      "b = Bear(\"Winnie\", fav_food=\"Honey\")\n",
      "c = Bear(fav_food=\"Frog legs\", name=\"Fozzie\")"
     ],
     "language": "python",
     "metadata": {},
     "outputs": []
    },
    {
     "cell_type": "code",
     "collapsed": false,
     "input": [
      "# Manibulate these instances, test a method\n",
      "c.friends = [a,b]\n",
      "c.same_food()"
     ],
     "language": "python",
     "metadata": {},
     "outputs": []
    },
    {
     "cell_type": "code",
     "collapsed": false,
     "input": [
      "# delete all instances\n",
      "del a,b,c"
     ],
     "language": "python",
     "metadata": {},
     "outputs": []
    },
    {
     "cell_type": "markdown",
     "metadata": {},
     "source": [
      "* A more useful example"
     ]
    },
    {
     "cell_type": "code",
     "collapsed": false,
     "input": [
      "class Polygon:\n",
      "    \"\"\"A new class named Polygon.\"\"\"\n",
      "    def __init__(self, vertices=[]):\n",
      "        self.vertices = vertices\n",
      "        print \"(Creating an instance of the class Polygon)\"\n",
      "    def perimeter(self):\n",
      "        sum = 0\n",
      "        for i in range(len(self.vertices)):\n",
      "            vertex1 = self.vertices[i]\n",
      "            vertex2 = self.vertices[(i+1) % len(self.vertices)]\n",
      "            distance = math.sqrt(pow(vertex2[0]-vertex1[0],2)+\\\n",
      "                                 pow(vertex2[1]-vertex1[1],2))\n",
      "            sum += distance\n",
      "        return sum"
     ],
     "language": "python",
     "metadata": {},
     "outputs": []
    },
    {
     "cell_type": "code",
     "collapsed": false,
     "input": [
      "a = Polygon([[0,-2],[1,1],[3,3],[5,1],[4,0],[4,-3]])\n",
      "a.perimeter()"
     ],
     "language": "python",
     "metadata": {},
     "outputs": []
    },
    {
     "cell_type": "code",
     "collapsed": false,
     "input": [
      "whos"
     ],
     "language": "python",
     "metadata": {},
     "outputs": []
    },
    {
     "cell_type": "code",
     "collapsed": false,
     "input": [],
     "language": "python",
     "metadata": {},
     "outputs": []
    }
   ],
   "metadata": {}
  }
 ]
}