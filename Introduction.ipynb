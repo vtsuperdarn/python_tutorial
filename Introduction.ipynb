{
 "metadata": {
  "name": "Introduction"
 },
 "nbformat": 3,
 "nbformat_minor": 0,
 "worksheets": [
  {
   "cells": [
    {
     "cell_type": "markdown",
     "metadata": {},
     "source": [
      "####Space@VT Grad Seminar\n",
      "#What Python can do for you!\n",
      "##1. Intro\n",
      "\n",
      "#### What is Python?\n",
      "* **interpreted** (like IDL or Matlab): no need for a compiling stage\n",
      "* **object-oriented**: programming paradigm that uses objects\n",
      "* **high-level**: abstraction from the way machine interprets & executes\n",
      "* **dynamic semantics**: can change meaning on-the-fly\n",
      "* **built-in**: core language (not external)\n",
      "* **name comes Monty Python\u2019s Flying Circus** \n",
      "\n",
      "#### Some references:\n",
      "* [Python Boot Camp](https://sites.google.com/site/pythonbootcamp/lectures)\n",
      "* [Python tips, tricks and hacks](http://www.siafoo.net/article/52)\n",
      "* [Scipy lecture notes](http://scipy-lectures.github.com/)\n",
      "* [A video overview of SpacePy](http://archive.org/details/Scipy2010-StevenK.Morley-Spacepy-APython-basedLibraryOfToolsFor)\n",
      "* [A quick video tutorial about h5py](http://www.youtube.com/watch?v=dEtC6bRcjvc)\n",
      "\n",
      "\n",
      "**Note: we are using Python 2.7 and recommend you use it too**  "
     ]
    },
    {
     "cell_type": "code",
     "collapsed": false,
     "input": [
      "print 'Hello World'"
     ],
     "language": "python",
     "metadata": {},
     "outputs": [
      {
       "output_type": "stream",
       "stream": "stdout",
       "text": [
        "Hello World\n"
       ]
      }
     ],
     "prompt_number": 1
    },
    {
     "cell_type": "code",
     "collapsed": false,
     "input": [
      "# Use it as a simple calculator\n",
      "2 + 2"
     ],
     "language": "python",
     "metadata": {},
     "outputs": [
      {
       "output_type": "pyout",
       "prompt_number": 2,
       "text": [
        "4"
       ]
      }
     ],
     "prompt_number": 2
    },
    {
     "cell_type": "code",
     "collapsed": false,
     "input": [
      "# Test stuff\n",
      "2.1 + 2 == 4.1"
     ],
     "language": "python",
     "metadata": {},
     "outputs": [
      {
       "output_type": "pyout",
       "prompt_number": 3,
       "text": [
        "True"
       ]
      }
     ],
     "prompt_number": 3
    },
    {
     "cell_type": "markdown",
     "metadata": {},
     "source": [
      "#### Indentation matters"
     ]
    },
    {
     "cell_type": "code",
     "collapsed": false,
     "input": [
      "x = 1\n",
      "for i in xrange(10):\n",
      "    print \"Let's go to\" if x > 0 else \"FunkyTown\"\n",
      "    x *= -1"
     ],
     "language": "python",
     "metadata": {},
     "outputs": [
      {
       "output_type": "stream",
       "stream": "stdout",
       "text": [
        "Let's go to\n",
        "FunkyTown\n",
        "Let's go to\n",
        "FunkyTown\n",
        "Let's go to\n",
        "FunkyTown\n",
        "Let's go to\n",
        "FunkyTown\n",
        "Let's go to\n",
        "FunkyTown\n"
       ]
      }
     ],
     "prompt_number": 49
    },
    {
     "cell_type": "markdown",
     "metadata": {},
     "source": [
      "#### Modules\n",
      "* Lots of built-in modules: \n",
      "    * **math** basic mathematical functions & constants\n",
      "    * **datetime** Basic date and time types\n",
      "    * and much more...\n",
      "* Even more external modules:\n",
      "    * **scipy/numpy** the ultimate scientific/numerical toolbox\n",
      "    * **matplotlib** python visualization toolbox\n",
      "    * and so much more..."
     ]
    },
    {
     "cell_type": "code",
     "collapsed": false,
     "input": [
      "import math\n",
      "math.pi"
     ],
     "language": "python",
     "metadata": {},
     "outputs": [
      {
       "output_type": "pyout",
       "prompt_number": 5,
       "text": [
        "3.141592653589793"
       ]
      }
     ],
     "prompt_number": 5
    },
    {
     "cell_type": "code",
     "collapsed": false,
     "input": [
      "from math import pi\n",
      "pi"
     ],
     "language": "python",
     "metadata": {},
     "outputs": [
      {
       "output_type": "pyout",
       "prompt_number": 6,
       "text": [
        "3.141592653589793"
       ]
      }
     ],
     "prompt_number": 6
    },
    {
     "cell_type": "markdown",
     "metadata": {},
     "source": [
      "#### I/O"
     ]
    },
    {
     "cell_type": "code",
     "collapsed": false,
     "input": [
      "fs = open(\"rbspA.dat\",\"r\")\n",
      "data = fs.readlines()\n",
      "fs.close()"
     ],
     "language": "python",
     "metadata": {},
     "outputs": [],
     "prompt_number": 7
    },
    {
     "cell_type": "code",
     "collapsed": false,
     "input": [
      "import numpy\n",
      "data_np =  genfromtxt('rbspA.dat', unpack=True)"
     ],
     "language": "python",
     "metadata": {},
     "outputs": [],
     "prompt_number": 8
    },
    {
     "cell_type": "code",
     "collapsed": false,
     "input": [
      "whos"
     ],
     "language": "python",
     "metadata": {},
     "outputs": [
      {
       "output_type": "stream",
       "stream": "stdout",
       "text": [
        "Variable   Type       Data/Info\n",
        "-------------------------------\n",
        "data       list       n=284\n",
        "data_np    ndarray    9x284: 2556 elems, type `float64`, 20448 bytes\n",
        "fs         file       <closed file 'rbspA.dat', mode 'r' at 0x22cad20>\n",
        "i          int        9\n",
        "x          int        1\n"
       ]
      }
     ],
     "prompt_number": 9
    },
    {
     "cell_type": "code",
     "collapsed": false,
     "input": [
      "for i,line in enumerate(data):\n",
      "    print line\n",
      "    if i > 5: break"
     ],
     "language": "python",
     "metadata": {},
     "outputs": [
      {
       "output_type": "stream",
       "stream": "stdout",
       "text": [
        "Year\tMonth\tDay\tHour\tMinute\tSecond\tALT(km)\t\tLAT\t\tLON\n",
        "\n",
        "2012\t11\t10\t00\t26\t00\t22854.043292\t-7.568468\t4.741024\n",
        "\n",
        "2012\t11\t10\t00\t31\t00\t23414.731323\t-7.411880\t4.836722\n",
        "\n",
        "2012\t11\t10\t00\t36\t00\t23950.849815\t-7.257126\t4.882709\n",
        "\n",
        "2012\t11\t10\t00\t41\t00\t24462.979542\t-7.104137\t4.883702\n",
        "\n",
        "2012\t11\t10\t00\t46\t00\t24951.679844\t-6.952839\t4.843814\n",
        "\n",
        "2012\t11\t10\t00\t51\t00\t25417.458855\t-6.803145\t4.766741\n",
        "\n"
       ]
      }
     ],
     "prompt_number": 10
    },
    {
     "cell_type": "code",
     "collapsed": false,
     "input": [
      "print data_np[0:3,0:10]"
     ],
     "language": "python",
     "metadata": {},
     "outputs": [
      {
       "output_type": "stream",
       "stream": "stdout",
       "text": [
        "[[   nan  2012.  2012.  2012.  2012.  2012.  2012.  2012.  2012.  2012.]\n",
        " [   nan    11.    11.    11.    11.    11.    11.    11.    11.    11.]\n",
        " [   nan    10.    10.    10.    10.    10.    10.    10.    10.    10.]]\n"
       ]
      }
     ],
     "prompt_number": 11
    },
    {
     "cell_type": "markdown",
     "metadata": {},
     "source": [
      "#### Object-Oriented programming\n",
      "* We use objects for:\n",
      "    * radar inventory and characteristics\n",
      "    * radar field-of-view projections"
     ]
    },
    {
     "cell_type": "code",
     "collapsed": false,
     "input": [
      "class Bear:\n",
      "    def __init__(self, name, fav_food, friends=[]):\n",
      "        self.name = name\n",
      "        self.fav_food = fav_food\n",
      "        self.friends = friends\n",
      "        print \" made a bear called {}\".format(name)\n",
      "        \n",
      "    def __del__(self):\n",
      "        print \"Bang! %s is no longer.\" % self.name\n",
      "        \n",
      "    def same_food(self):\n",
      "        for friend in self.friends:\n",
      "            if (friend.fav_food == self.fav_food):\n",
      "                print \"%s and %s both like %s\" % \\\n",
      "                    (self.name, friend.name, self.fav_food)"
     ],
     "language": "python",
     "metadata": {},
     "outputs": [],
     "prompt_number": 12
    },
    {
     "cell_type": "code",
     "collapsed": false,
     "input": [
      "a = Bear(\"Yogi\", \"Frog legs\")\n",
      "b = Bear(\"Winnie\", fav_food=\"Honey\")\n",
      "c = Bear(fav_food=\"Frog legs\", name=\"Fozzie\")"
     ],
     "language": "python",
     "metadata": {},
     "outputs": [
      {
       "output_type": "stream",
       "stream": "stdout",
       "text": [
        " made a bear called Yogi\n",
        " made a bear called Winnie\n",
        " made a bear called Fozzie\n"
       ]
      }
     ],
     "prompt_number": 43
    },
    {
     "cell_type": "code",
     "collapsed": false,
     "input": [
      "c.friends = [a,b]\n",
      "c.same_food()"
     ],
     "language": "python",
     "metadata": {},
     "outputs": [
      {
       "output_type": "stream",
       "stream": "stdout",
       "text": [
        "Fozzie and Yogi both like Frog legs\n"
       ]
      }
     ],
     "prompt_number": 44
    },
    {
     "cell_type": "code",
     "collapsed": false,
     "input": [
      "del a,b,c"
     ],
     "language": "python",
     "metadata": {},
     "outputs": [
      {
       "output_type": "stream",
       "stream": "stdout",
       "text": [
        "Bang! Fozzie is no longer.\n",
        "Bang! Winnie is no longer.\n",
        "Bang! Yogi is no longer.\n"
       ]
      }
     ],
     "prompt_number": 45
    },
    {
     "cell_type": "markdown",
     "metadata": {},
     "source": [
      "* A more useful example"
     ]
    },
    {
     "cell_type": "code",
     "collapsed": false,
     "input": [
      "class Polygon:\n",
      "    \"\"\"A new class named Polygon.\"\"\"\n",
      "    def __init__(self, vertices=[]):\n",
      "        self.vertices = vertices\n",
      "        print \"(Creating an instance of the class Polygon)\"\n",
      "    def perimeter(self):\n",
      "        sum = 0\n",
      "        for i in range(len(self.vertices)):\n",
      "            vertex1 = self.vertices[i]\n",
      "            vertex2 = self.vertices[(i+1) % len(self.vertices)]\n",
      "            distance = math.sqrt(pow(vertex2[0]-vertex1[0],2)+\\\n",
      "                                 pow(vertex2[1]-vertex1[1],2))\n",
      "            sum += distance\n",
      "        return sum"
     ],
     "language": "python",
     "metadata": {},
     "outputs": [],
     "prompt_number": 16
    },
    {
     "cell_type": "code",
     "collapsed": false,
     "input": [
      "a = Polygon([[0,-2],[1,1],[3,3],[5,1],[4,0],[4,-3]])\n",
      "a.perimeter()"
     ],
     "language": "python",
     "metadata": {},
     "outputs": [
      {
       "output_type": "stream",
       "stream": "stdout",
       "text": [
        "(Creating an instance of the class Polygon)\n"
       ]
      },
      {
       "output_type": "pyout",
       "prompt_number": 17,
       "text": [
        "17.356451097651515"
       ]
      }
     ],
     "prompt_number": 17
    },
    {
     "cell_type": "code",
     "collapsed": false,
     "input": [
      "whos"
     ],
     "language": "python",
     "metadata": {},
     "outputs": [
      {
       "output_type": "stream",
       "stream": "stdout",
       "text": [
        "Variable   Type        Data/Info\n",
        "--------------------------------\n",
        "Bear       classobj    __main__.Bear\n",
        "data       list        n=284\n",
        "data_np    ndarray     9x284: 2556 elems, type `float64`, 20448 bytes\n",
        "fs         file        <closed file 'rbspA.dat', mode 'r' at 0x22cad20>\n",
        "i          int         6\n",
        "line       str         2012\t11\t10\t00\t51\t00\t25417<...>8855\t-6.803145\t4.766741\\n\n",
        "x          int         1\n"
       ]
      }
     ],
     "prompt_number": 46
    },
    {
     "cell_type": "code",
     "collapsed": false,
     "input": [],
     "language": "python",
     "metadata": {},
     "outputs": []
    }
   ],
   "metadata": {}
  }
 ]
}