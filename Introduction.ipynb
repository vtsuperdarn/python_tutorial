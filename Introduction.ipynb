{
 "metadata": {
  "name": "Introduction"
 },
 "nbformat": 3,
 "nbformat_minor": 0,
 "worksheets": [
  {
   "cells": [
    {
     "cell_type": "markdown",
     "metadata": {},
     "source": [
      "####Space@VT Grad Seminar\n",
      "#What Python can do for you!\n",
      "##1. Intro\n",
      "\n",
      "#### What is Python:\n",
      "* **interpreted** (like IDL or Matlab): no need for a compiling stage\n",
      "* **object-oriented**: programming paradigm that uses objects\n",
      "* **high-level**: abstraction from the way machine interprets & executes\n",
      "* **dynamic semantics**: can change meaning on-the-fly\n",
      "* **built-in**: core language (not external)\n",
      "* **name comes Monty Python\u2019s Flying Circus**"
     ]
    },
    {
     "cell_type": "code",
     "collapsed": false,
     "input": [],
     "language": "python",
     "metadata": {},
     "outputs": []
    },
    {
     "cell_type": "markdown",
     "metadata": {},
     "source": [
      "####Some references:\n",
      "* Python Boot Camp: [https://sites.google.com/site/pythonbootcamp/lectures](https://sites.google.com/site/pythonbootcamp/lectures)\n",
      "* [Python tips, tricks and hacks](http://www.siafoo.net/article/52)\n",
      "* Scipy lecture notes: [http://scipy-lectures.github.com/](http://scipy-lectures.github.com/)\n",
      "* [A video overview of SpacePy](http://archive.org/details/Scipy2010-StevenK.Morley-Spacepy-APython-basedLibraryOfToolsFor)\n",
      "* [A quick video tutorial about h5py](http://www.youtube.com/watch?v=dEtC6bRcjvc)"
     ]
    },
    {
     "cell_type": "code",
     "collapsed": false,
     "input": [],
     "language": "python",
     "metadata": {},
     "outputs": []
    }
   ],
   "metadata": {}
  }
 ]
}